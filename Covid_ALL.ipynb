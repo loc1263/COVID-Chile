{
  "nbformat": 4,
  "nbformat_minor": 0,
  "metadata": {
    "colab": {
      "name": "Covid_ALL.ipynb",
      "provenance": [],
      "collapsed_sections": [],
      "mount_file_id": "19cNd8lTvYfd2FioKXyuC8QokZGQdG3p4",
      "authorship_tag": "ABX9TyMmoh2vFwW+cb/DP/LGmLdB",
      "include_colab_link": true
    },
    "kernelspec": {
      "name": "python3",
      "display_name": "Python 3"
    }
  },
  "cells": [
    {
      "cell_type": "markdown",
      "metadata": {
        "id": "view-in-github",
        "colab_type": "text"
      },
      "source": [
        "<a href=\"https://colab.research.google.com/github/loc1263/COVID-Chile/blob/master/Covid_ALL.ipynb\" target=\"_parent\"><img src=\"https://colab.research.google.com/assets/colab-badge.svg\" alt=\"Open In Colab\"/></a>"
      ]
    },
    {
      "cell_type": "code",
      "metadata": {
        "id": "TCEqm3f3XxRR",
        "colab_type": "code",
        "colab": {}
      },
      "source": [
        "import pandas as pd\n",
        "pd.set_option('display.max_columns', None)  # or 1000\n",
        "pd.set_option('display.max_rows', None)  # or 1000\n",
        "pd.set_option('display.max_colwidth', -1)  # or 199\n",
        "\n",
        "File='/content/drive/My Drive/Dataset/COVID-19/csse_covid_19_data/csse_covid_19_time_series/time_series_covid19_confirmed_global.csv'\n",
        "\n",
        "data = pd.read_csv(File, sep=',')\n",
        "#data.head(50)"
      ],
      "execution_count": 0,
      "outputs": []
    },
    {
      "cell_type": "code",
      "metadata": {
        "id": "-vDac3y9ir3f",
        "colab_type": "code",
        "colab": {}
      },
      "source": [
        "def create_df(pais):\n",
        "      import numpy as np \n",
        "\n",
        "      array = [pais]\n",
        "      data.loc[data['Country/Region'].isin(array)]\n",
        "      df=data.loc[data['Country/Region'].isin(array)]\n",
        "      df=df.transpose() \n",
        "      df=df.drop(['Lat', 'Long','Province/State'])\n",
        "      df.columns = df.iloc[0]\n",
        "      df = df[1:]\n",
        "\n",
        "      df['Real_Row'] = np.arange(len(df))+1\n",
        "      df.reset_index(level=0, inplace=True)\n",
        "      df = df.rename_axis(index=None, columns=None)\n",
        "      df = df.rename(columns={df.columns[0]: 'Fecha' , df.columns[1]: 'Casos'})\n",
        "      df=df[['Real_Row', 'Fecha', 'Casos']]\n",
        "\n",
        "      df_Filter = df[(df['Casos'] > 0)]\n",
        "      df_Filter.reset_index(drop=True,level=0, inplace=True)\n",
        "      df_Filter.insert(0, 'Dia', range(1, 1 + len(df_Filter)))\n",
        "      df=df_Filter\n",
        "      \n",
        "      df=df.head(40) # Numero de dias que se toman\n",
        "\n",
        "      return df\n",
        "\n",
        "def create_dfCasos(pais):    \n",
        "    # Dataframe solo con los datos a partir del primer caso detectado\n",
        "    \n",
        "    df=create_df(pais)\n",
        "    dfNew= df[['Fecha','Casos']]\n",
        "    dfNew= dfNew[(dfNew['Casos'] > 0)] # Se toma desde el primer caso contabilizado\n",
        "    dfNew.reset_index(drop=True,level=0, inplace=True)\n",
        "    dfNew.insert(0, 'Dia', range(1, 1 + len(dfNew)))\n",
        "\n",
        "    return dfNew\n",
        "  \n",
        "dfCL=create_dfCasos('Chile')  \n",
        "dfIT=create_dfCasos('Italy')  \n",
        "dfAR=create_dfCasos('Argentina')  \n",
        "dfJP=create_dfCasos('Japan') \n",
        "dfSP=create_dfCasos('Spain') \n",
        "dfCO=create_dfCasos('Colombia') \n"
      ],
      "execution_count": 0,
      "outputs": []
    },
    {
      "cell_type": "code",
      "metadata": {
        "id": "WGneEJBCj7XC",
        "colab_type": "code",
        "colab": {}
      },
      "source": [
        "#Deja solo los casos por paises\n",
        "\n",
        "df_paises = pd.concat([dfCL,dfIT,dfAR,dfJP,dfSP,dfCO,], axis=1)\n",
        "columnas = ['DiaCL', 'FechaCL', 'CasosCL','DiaIT', 'FechaIT', 'CasosIT','DiaAR', 'FechaAR', 'CasosAR','DiaJP', 'FechaJP', 'CasosJP','DiaSP', 'FechaSP', 'CasosSP','DiaCO', 'FechaCO', 'CasosCO']\n",
        "\n",
        "df_paises.columns = columnas\n",
        "df_paises=df_paises[['CasosCL','CasosIT','CasosAR','CasosJP','CasosSP','CasosCO']]\n",
        "\n",
        "#reset al indice\n",
        "df_paises.reset_index(drop=True,level=0, inplace=True)\n",
        "df_paises.insert(0, 'Dia', range(1, 1 + len(df_paises)))\n",
        "\n",
        "#df_paises"
      ],
      "execution_count": 0,
      "outputs": []
    },
    {
      "cell_type": "code",
      "metadata": {
        "id": "NpKd1jnTWiRM",
        "colab_type": "code",
        "outputId": "68e5ed7a-55f1-4cc5-aa51-90942dd088d0",
        "colab": {
          "base_uri": "https://localhost:8080/",
          "height": 278
        }
      },
      "source": [
        "import matplotlib.pyplot as plt\n",
        "\n",
        "ax = plt.gca()\n",
        "\n",
        "df_paises.plot(kind='line',x='Dia',y='CasosCL', color='red'    , ax=ax)\n",
        "df_paises.plot(kind='line',x='Dia',y='CasosIT', color='blue'   , ax=ax)\n",
        "df_paises.plot(kind='line',x='Dia',y='CasosAR', color='green'  , ax=ax)\n",
        "df_paises.plot(kind='line',x='Dia',y='CasosJP', color='orange' , ax=ax)\n",
        "df_paises.plot(kind='line',x='Dia',y='CasosSP', color='black'  , ax=ax)\n",
        "df_paises.plot(kind='line',x='Dia',y='CasosCO', color='yellow' , ax=ax)\n",
        "\n",
        "plt.show()\n",
        "\n"
      ],
      "execution_count": 109,
      "outputs": [
        {
          "output_type": "display_data",
          "data": {
            "image/png": "[encoded data removed]",
            "text/plain": [
              "<Figure size 432x288 with 1 Axes>"
            ]
          },
          "metadata": {
            "tags": []
          }
        }
      ]
    }
  ]
}